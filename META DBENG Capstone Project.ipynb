{
 "cells": [
  {
   "cell_type": "code",
   "execution_count": 1,
   "id": "97529b6d",
   "metadata": {},
   "outputs": [
    {
     "name": "stdout",
     "output_type": "stream",
     "text": [
      "Requirement already satisfied: mysql-connector-python in c:\\users\\anita\\anaconda3\\lib\\site-packages (8.2.0)\n",
      "Requirement already satisfied: protobuf<=4.21.12,>=4.21.1 in c:\\users\\anita\\anaconda3\\lib\\site-packages (from mysql-connector-python) (4.21.12)\n"
     ]
    }
   ],
   "source": [
    "#Ensure that mysql-connector is installed by running the command\n",
    "!pip install mysql-connector-python"
   ]
  },
  {
   "cell_type": "code",
   "execution_count": 2,
   "id": "88db6ba9",
   "metadata": {},
   "outputs": [],
   "source": [
    "#Import the connector under the alias connector\n",
    "import mysql.connector as connector"
   ]
  },
  {
   "cell_type": "markdown",
   "id": "8faad214",
   "metadata": {},
   "source": [
    "### Task One"
   ]
  },
  {
   "cell_type": "code",
   "execution_count": 4,
   "id": "7d359e3c",
   "metadata": {},
   "outputs": [],
   "source": [
    "#Verify that a connection can be made with your database by calling the connection method from the connector class\n",
    "connection = connector.connect(user = \"root\", password = \" \", db=\"littlelemondb\")"
   ]
  },
  {
   "cell_type": "code",
   "execution_count": 5,
   "id": "7218ce13",
   "metadata": {},
   "outputs": [],
   "source": [
    "#Instantiate an instance of cursor to pass queries and return results\n",
    "cursor = connection.cursor()"
   ]
  },
  {
   "cell_type": "markdown",
   "id": "dffed436",
   "metadata": {},
   "source": [
    "### Task Two"
   ]
  },
  {
   "cell_type": "code",
   "execution_count": 6,
   "id": "8b20a399",
   "metadata": {},
   "outputs": [],
   "source": [
    "#Return a snapshot of the database tables\n",
    "show_tables_query = \"SHOW tables\" \n",
    "cursor.execute(show_tables_query)"
   ]
  },
  {
   "cell_type": "code",
   "execution_count": 8,
   "id": "ec84ad2a",
   "metadata": {},
   "outputs": [
    {
     "name": "stdout",
     "output_type": "stream",
     "text": [
      "[('bookings',), ('customerdetails',), ('menuitems',), ('menus',), ('orderdelivery',), ('orders',), ('ordersview',), ('staffinformation',)]\n"
     ]
    }
   ],
   "source": [
    "#To view the tables that are associated with the database\n",
    "results = cursor.fetchall()\n",
    "print(results)"
   ]
  },
  {
   "cell_type": "code",
   "execution_count": 9,
   "id": "5a3f4b3d",
   "metadata": {},
   "outputs": [
    {
     "name": "stdout",
     "output_type": "stream",
     "text": [
      "('bookings',)\n",
      "('customerdetails',)\n",
      "('menuitems',)\n",
      "('menus',)\n",
      "('orderdelivery',)\n",
      "('orders',)\n",
      "('ordersview',)\n",
      "('staffinformation',)\n"
     ]
    }
   ],
   "source": [
    "#To view the tables that are associated with the database in list format\n",
    "for table in results:\n",
    "    print(table)"
   ]
  },
  {
   "cell_type": "markdown",
   "id": "851ba43a",
   "metadata": {},
   "source": [
    "### Task Three"
   ]
  },
  {
   "cell_type": "code",
   "execution_count": null,
   "id": "832763c8",
   "metadata": {},
   "outputs": [],
   "source": [
    "join_query = \"\"\"\n",
    "SELECT table1.col1, table1.col2, table2.col1,table2.col3\n",
    "FROM table1\n",
    "INNER JOIN table2\n",
    "ON table1.col1 = table2.col1;\"\"\"\n",
    "\n",
    "#execute query\n",
    "cursor.execute(join_query)"
   ]
  },
  {
   "cell_type": "code",
   "execution_count": 14,
   "id": "62fea8f1",
   "metadata": {},
   "outputs": [],
   "source": [
    "join_query = \"\"\"\n",
    "SELECT CustomerName, CustomerNumber, CustomerEmail, TotalCost\n",
    "FROM customerdetails\n",
    "INNER JOIN orders\n",
    "ON customerdetails.CustomerID = orders.CustomerID\n",
    "WHERE TotalCost > 60;\n",
    "\"\"\"\n",
    "\n",
    "#execute query\n",
    "cursor.execute(join_query)"
   ]
  },
  {
   "cell_type": "code",
   "execution_count": 15,
   "id": "bf98289f",
   "metadata": {},
   "outputs": [
    {
     "name": "stdout",
     "output_type": "stream",
     "text": [
      "('CustomerName', 'CustomerNumber', 'CustomerEmail', 'TotalCost')\n",
      "('Joakim Iversen', 351474048, 'joakimiversen@gmail.com', Decimal('86'))\n",
      "('Vanessa McCarthy', 351970582, 'vanessamccarthy@hotmail.com', Decimal('370'))\n",
      "('Diana Pinto', 351584508, 'dianepinto@gmail.com', Decimal('430'))\n"
     ]
    }
   ],
   "source": [
    "#To get all column names in a table\n",
    "columns = cursor.column_names\n",
    "#print column names \n",
    "print(columns)\n",
    "\n",
    "#print results under column names\n",
    "results = cursor.fetchall()\n",
    "for result in results:\n",
    "    print(result)"
   ]
  },
  {
   "cell_type": "code",
   "execution_count": null,
   "id": "cac8cb30",
   "metadata": {},
   "outputs": [],
   "source": []
  },
  {
   "cell_type": "code",
   "execution_count": null,
   "id": "7306a437",
   "metadata": {},
   "outputs": [],
   "source": []
  }
 ],
 "metadata": {
  "kernelspec": {
   "display_name": "Python 3 (ipykernel)",
   "language": "python",
   "name": "python3"
  },
  "language_info": {
   "codemirror_mode": {
    "name": "ipython",
    "version": 3
   },
   "file_extension": ".py",
   "mimetype": "text/x-python",
   "name": "python",
   "nbconvert_exporter": "python",
   "pygments_lexer": "ipython3",
   "version": "3.11.5"
  }
 },
 "nbformat": 4,
 "nbformat_minor": 5
}
